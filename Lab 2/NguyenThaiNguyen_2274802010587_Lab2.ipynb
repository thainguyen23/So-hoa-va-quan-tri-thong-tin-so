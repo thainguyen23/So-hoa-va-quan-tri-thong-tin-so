{
 "cells": [
  {
   "cell_type": "markdown",
   "id": "de8d71b6-ae3b-4a90-83fb-e463912ec118",
   "metadata": {},
   "source": [
    "# ***LAB 2: NUMPY, PANDAS, VÀ MATPLOTLIB NÂNG CAO***\n"
   ]
  },
  {
   "cell_type": "markdown",
   "id": "97ed4560-f8e9-4697-a37a-c4fc27700bd0",
   "metadata": {},
   "source": [
    "## 1. NUMPY"
   ]
  },
  {
   "cell_type": "code",
   "execution_count": 3,
   "id": "f7daff9c-086f-4228-a026-258c63649526",
   "metadata": {},
   "outputs": [
    {
     "data": {
      "text/plain": [
       "array([3, 5])"
      ]
     },
     "execution_count": 3,
     "metadata": {},
     "output_type": "execute_result"
    }
   ],
   "source": [
    "import numpy as np\n",
    "\n",
    "x = np.array([1, 2, 3, 4, 5, 6, 7, 8])\n",
    "\n",
    "x[3]\n",
    "\n",
    "#lấy từ 3-8\n",
    "x[2:8]\n",
    "\n",
    "#Lấy từ 3 - 7\n",
    "x[2:7]\n",
    "x[2:-1]\n",
    "\n",
    "#Lấy 7-8\n",
    "x[-2:]\n",
    "\n",
    "# Lấy phần tử 2 và 4\n",
    "x[[2,4]]"
   ]
  },
  {
   "cell_type": "code",
   "execution_count": 4,
   "id": "89fcedc5-5e64-4d09-af63-94fb85bf9138",
   "metadata": {},
   "outputs": [
    {
     "name": "stdout",
     "output_type": "stream",
     "text": [
      "[[1 2]\n",
      " [3 4]\n",
      " [5 6]]\n",
      "2\n",
      "6\n",
      "[[3 4]\n",
      " [5 6]]\n",
      "[[3 4]\n",
      " [5 6]]\n",
      "[[3 4]\n",
      " [5 6]]\n",
      "[[3 4]\n",
      " [5 6]]\n",
      "[1 3 5]\n",
      "[1 5]\n",
      "[1 5]\n"
     ]
    }
   ],
   "source": [
    "data = [(1, 2), (3, 4), (5, 6)]\n",
    "\n",
    "mang = np.array(data)\n",
    "print(mang)\n",
    "\n",
    "#Lấy phần tử 2\n",
    "print(mang[0,1])\n",
    "\n",
    "#Lấy phần tử 6\n",
    "print(mang[2,1])\n",
    "\n",
    "#Lấy 3,4,5,6\n",
    "print(mang[1:, :])\n",
    "#Cách khác\n",
    "print(mang[1:])\n",
    "print(mang[(1,2), :])\n",
    "print(mang[-2:])\n",
    "\n",
    "#Lấy 1,3,5\n",
    "print(mang[:,0])\n",
    "\n",
    "#Lấy 1-5\n",
    "print(mang[(0,2),0])\n",
    "\n",
    "#Lấy 1 và 5 theo format start:end:step\n",
    "print(mang[::2,0])\n"
   ]
  },
  {
   "cell_type": "code",
   "execution_count": 5,
   "id": "806c35cd-ef76-4dde-baaf-db23300fec1e",
   "metadata": {},
   "outputs": [
    {
     "name": "stdout",
     "output_type": "stream",
     "text": [
      "[ 2  6 10 14]\n",
      "[ 7 11]\n",
      "[ 4  7 10]\n",
      "[16 15 14 13]\n",
      "[16 15 14 13]\n",
      "[16 15 14 13]\n"
     ]
    }
   ],
   "source": [
    "x = [\n",
    "    (1, 2, 3, 4),\n",
    "    (5, 6, 7, 8),\n",
    "    (9, 10, 11, 12),\n",
    "    (13, 14, 15, 16),\n",
    "]\n",
    "mangg = np.array(x)\n",
    "# lấy 2 6 10 14\n",
    "print(mangg[:,1])\n",
    "\n",
    "#Lấy 7 và 11\n",
    "print(mangg[1:3,2])\n",
    "\n",
    "#Lấy 4 7 10\n",
    "print(mangg[[0,1,2], [3,2,1]])\n",
    "\n",
    "#lấy 16 15 14 13\n",
    "print(mangg[3,:][::-1][:4])\n",
    "print(mangg[3,::-1])\n",
    "print(mangg[-1, -1::-1])"
   ]
  },
  {
   "cell_type": "code",
   "execution_count": 6,
   "id": "7c2ed2df-fcb6-4358-8514-462e8f23d6a2",
   "metadata": {},
   "outputs": [
    {
     "name": "stdout",
     "output_type": "stream",
     "text": [
      "[4 5 6]\n",
      "[2 5]\n",
      "[3 4]\n",
      "[9 6 3]\n",
      "[9 6 3]\n",
      "[9 6 3]\n"
     ]
    }
   ],
   "source": [
    "import numpy as np\n",
    "\n",
    "x = np.array([\n",
    "    (1, 2, 3),\n",
    "    (4, 5, 6),\n",
    "    (7, 8, 9)\n",
    "])\n",
    "\n",
    "# Lấy 4, 5, 6\n",
    "print(x[1,:])\n",
    "\n",
    "# Lấy 3, 5\n",
    "print(x[:2, 1])\n",
    "\n",
    "# Lấy 3, 4\n",
    "print(x[[0, 1], [2, 0]])\n",
    "\n",
    "# Lấy 9, 6, 3\n",
    "print(x[[2, 1, 0], [2, 2, 2]])\n",
    "print(x[:3,-1][::-1])\n",
    "print(x[::-1, 2])\n"
   ]
  },
  {
   "cell_type": "code",
   "execution_count": 7,
   "id": "65d7b70c-032a-422c-86d4-4c6f85dff654",
   "metadata": {},
   "outputs": [
    {
     "name": "stdout",
     "output_type": "stream",
     "text": [
      "Các phần tử chẵn: [2, 4, 6, 8, 10]\n"
     ]
    }
   ],
   "source": [
    "x = [1, 2, 3, 4, 5, 6, 7, 8, 9, 10]\n",
    "\n",
    "# Lấy các phần tử chẵn\n",
    "mang_chan = [num for num in x if num % 2 == 0]\n",
    "print(\"Các phần tử chẵn:\", mang_chan)\n"
   ]
  },
  {
   "cell_type": "code",
   "execution_count": 8,
   "id": "832bb439-ca1b-4d19-bd15-f0eb88bfd114",
   "metadata": {},
   "outputs": [
    {
     "data": {
      "text/plain": [
       "array([[1., 1., 1.],\n",
       "       [1., 1., 1.],\n",
       "       [1., 1., 1.]])"
      ]
     },
     "execution_count": 8,
     "metadata": {},
     "output_type": "execute_result"
    }
   ],
   "source": [
    "np.ones((3,3))"
   ]
  },
  {
   "cell_type": "code",
   "execution_count": 9,
   "id": "3f93dc7e-b19c-4191-ae5d-f07875b8ed16",
   "metadata": {},
   "outputs": [
    {
     "data": {
      "text/plain": [
       "array([0, 1, 2])"
      ]
     },
     "execution_count": 9,
     "metadata": {},
     "output_type": "execute_result"
    }
   ],
   "source": [
    "z = np.arange(3)\n",
    "z"
   ]
  },
  {
   "cell_type": "code",
   "execution_count": 10,
   "id": "831731b9-64f9-4c8b-ae6c-09f3861779cb",
   "metadata": {},
   "outputs": [
    {
     "data": {
      "text/plain": [
       "array([[1., 2., 3.],\n",
       "       [1., 2., 3.],\n",
       "       [1., 2., 3.]])"
      ]
     },
     "execution_count": 10,
     "metadata": {},
     "output_type": "execute_result"
    }
   ],
   "source": [
    "np.ones((3,3)) + np.arange(3)\n"
   ]
  },
  {
   "cell_type": "code",
   "execution_count": 11,
   "id": "ce6f39ba-413f-46b1-b57d-582d81994ae5",
   "metadata": {},
   "outputs": [
    {
     "data": {
      "text/plain": [
       "array([[0],\n",
       "       [1],\n",
       "       [2]])"
      ]
     },
     "execution_count": 11,
     "metadata": {},
     "output_type": "execute_result"
    }
   ],
   "source": [
    "z = z.reshape((3,1))\n",
    "z"
   ]
  },
  {
   "cell_type": "code",
   "execution_count": 12,
   "id": "720eea7d-6e13-4adf-a242-01e844b93a64",
   "metadata": {},
   "outputs": [
    {
     "name": "stdout",
     "output_type": "stream",
     "text": [
      "(10, 4)\n",
      "(10, 4)\n",
      "(10, 4)\n",
      "(10, 4)\n",
      "(10, 4)\n",
      "(10, 4)\n",
      "(10, 4)\n",
      "(10, 4)\n",
      "(10, 4)\n",
      "(10, 4)\n",
      "(5, 4)\n"
     ]
    }
   ],
   "source": [
    "# Tạo một mảng numpy có kích thước 150 x 5. Hãy tưởng tượng mảng này chưa 150 mẫu về chiều cao, cân nặng, tuổi, lương, gpa của sinh viên VLU.\n",
    "# Chia mảng 4 cột đầu tiên thành 1 biến có tên là X và cột cuối cùng thành Y\n",
    "# Chia X thành X_train và X_test chưa 70% dữ liệu và chia Y thành Y_train và Y_test, trong đó Y_train chứa 70% dữ liệu.\n",
    "# Tạo 10 tập dữ liệu không chồng chéo của X_train \n",
    "\n",
    "data = np.random.uniform(0,10,(150,5))\n",
    "data.shape\n",
    "\n",
    "# Chia dữ liệu thành X và Y\n",
    "X = data[:, :-1]  # 4 cột đầu tiên\n",
    "Y = data[:, 4]   # Cột cuối cùng\n",
    "\n",
    "X.shape,Y.shape\n",
    "\n",
    "dataset_size = X.shape[0]\n",
    "dataset_size\n",
    "\n",
    "train_size = int(0.7 * dataset_size)\n",
    "train_size\n",
    "\n",
    "x_train = X[:train_size] \n",
    "x_test = X[train_size:]\n",
    "x_train.shape, x_test.shape\n",
    "\n",
    "split = x_train.shape[0]//10\n",
    "split\n",
    "\n",
    "for  counter in range(0, x_train.shape[0], split):\n",
    "    print(x_train[counter:counter+split].shape)\n"
   ]
  },
  {
   "cell_type": "code",
   "execution_count": 13,
   "id": "b762e08a-700e-42ea-a3d4-afddc4bf587c",
   "metadata": {},
   "outputs": [],
   "source": [
    "# BTVN:\n",
    "# input: ma trận có kích thuwcowcs (150, 5), tách dữ liệu thành 5 phần 4 phần x và 1 phần y, chia x thành train 70% và test 30%\n",
    "# output:\n",
    "# Nhận xét bài trên:\n"
   ]
  },
  {
   "cell_type": "markdown",
   "id": "70381238-6b53-4e3f-99da-acabd8f53946",
   "metadata": {},
   "source": [
    "BTVN: Cho ma trận sau = [\r\n",
    "(99, 99, 99),\r\n",
    "(99, 99, 99),\r\n",
    "(99, 99, 99),\r\n",
    "]\r\n",
    "giả sử 0 = O và 1 là X\r\n",
    "nhận đầu vào từ phía X và O luân phiên\r\n",
    "cho một cặp chỉ số\r\n",
    "nếu phía x nhập ((0,0)) thì ma trận trở thành:\r\n",
    "[\r\n",
    "(X, 99, 99),\r\n",
    "(99, 99, 99),\r\n",
    "(99, 99, 99),\r\n",
    "]\\\r\n",
    "\r\n",
    "Nếu phía O nhập ((0,0)) thì lỗi và yêu cầu nhập lại và nếu không thì điền vào ma trận\\\r\n",
    "\r\n",
    "Nếu ai đó có 3 ô liên tiếp thì dừng trò chơi\\"
   ]
  },
  {
   "cell_type": "code",
   "execution_count": null,
   "id": "a4160b89-cb71-479c-9dbe-584b5af43c3a",
   "metadata": {},
   "outputs": [
    {
     "name": "stdout",
     "output_type": "stream",
     "text": [
      "[99, 99, 99]\n",
      "[99, 99, 99]\n",
      "[99, 99, 99]\n",
      "Lượt của người chơi X\n"
     ]
    }
   ],
   "source": [
    "def print_board(board):\n",
    "    for row in board:\n",
    "        print(row)\n",
    "\n",
    "def check_winner(board):\n",
    "    # Kiểm tra hàng ngang\n",
    "    for row in board:\n",
    "        if row[0] == row[1] == row[2] and row[0] != 99:\n",
    "            return row[0]\n",
    "    \n",
    "    # Kiểm tra hàng dọc\n",
    "    for col in range(3):\n",
    "        if board[0][col] == board[1][col] == board[2][col] and board[0][col] != 99:\n",
    "            return board[0][col]\n",
    "    \n",
    "    # Kiểm tra đường chéo\n",
    "    if board[0][0] == board[1][1] == board[2][2] and board[0][0] != 99:\n",
    "        return board[0][0]\n",
    "    if board[0][2] == board[1][1] == board[2][0] and board[0][2] != 99:\n",
    "        return board[0][2]\n",
    "    \n",
    "    return None\n",
    "\n",
    "def main():\n",
    "    # Khởi tạo ma trận\n",
    "    board = [\n",
    "        [99, 99, 99],\n",
    "        [99, 99, 99],\n",
    "        [99, 99, 99]\n",
    "    ]\n",
    "    \n",
    "    current_player = 'X'\n",
    "    \n",
    "    while True:\n",
    "        print_board(board)\n",
    "        print(f\"Lượt của người chơi {current_player}\")\n",
    "        \n",
    "        # Nhập chỉ số từ người chơi\n",
    "        try:\n",
    "            i, j = map(int, input(\"Nhập cặp chỉ số (i, j): \").split())\n",
    "        except ValueError:\n",
    "            print(\"Vui lòng nhập đúng định dạng (i j).\")\n",
    "            continue\n",
    "        \n",
    "        # Kiểm tra tính hợp lệ của nước đi\n",
    "        if i < 0 or i > 2 or j < 0 or j > 2:\n",
    "            print(\"Chỉ số không hợp lệ. Vui lòng nhập lại.\")\n",
    "            continue\n",
    "        \n",
    "        if board[i][j] != 99:\n",
    "            print(\"Ô đã được đánh dấu. Vui lòng nhập lại.\")\n",
    "            continue\n",
    "        \n",
    "        # Cập nhật ma trận\n",
    "        board[i][j] = current_player\n",
    "        \n",
    "        # Kiểm tra điều kiện thắng\n",
    "        winner = check_winner(board)\n",
    "        if winner:\n",
    "            print_board(board)\n",
    "            print(f\"Người chơi {winner} đã chiến thắng!\")\n",
    "            break\n",
    "        \n",
    "        # Đổi lượt chơi\n",
    "        current_player = 'O' if current_player == 'X' else 'X'\n",
    "\n",
    "if __name__ == \"__main__\":\n",
    "    main()"
   ]
  },
  {
   "cell_type": "code",
   "execution_count": null,
   "id": "b3b38499-63c9-4bf1-95fd-9d61c1ea8885",
   "metadata": {},
   "outputs": [],
   "source": []
  }
 ],
 "metadata": {
  "kernelspec": {
   "display_name": "Python 3 (ipykernel)",
   "language": "python",
   "name": "python3"
  },
  "language_info": {
   "codemirror_mode": {
    "name": "ipython",
    "version": 3
   },
   "file_extension": ".py",
   "mimetype": "text/x-python",
   "name": "python",
   "nbconvert_exporter": "python",
   "pygments_lexer": "ipython3",
   "version": "3.11.7"
  }
 },
 "nbformat": 4,
 "nbformat_minor": 5
}
