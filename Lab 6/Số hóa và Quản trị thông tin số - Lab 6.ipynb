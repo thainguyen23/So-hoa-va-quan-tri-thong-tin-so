{
 "cells": [
  {
   "cell_type": "markdown",
   "id": "f35c692a-4d00-4dee-9bfe-c32e8fee7c04",
   "metadata": {},
   "source": [
    "Nguyễn Thái Nguyên - 2274802010587"
   ]
  },
  {
   "cell_type": "markdown",
   "id": "833c5261-4a03-406c-82d4-efe1d5b75f8e",
   "metadata": {},
   "source": [
    "# ***Pytorch Basic***"
   ]
  },
  {
   "cell_type": "markdown",
   "id": "c5005fe2-342a-478d-bf2e-6b9b622f20ac",
   "metadata": {},
   "source": [
    "## Cơ bản về Pytorch"
   ]
  },
  {
   "cell_type": "code",
   "execution_count": 13,
   "id": "c52396a4-a8da-4d29-8a07-d4a83ae6b581",
   "metadata": {},
   "outputs": [],
   "source": [
    "import torch"
   ]
  },
  {
   "cell_type": "code",
   "execution_count": 14,
   "id": "2b8a0382-1a1b-4919-a389-76b9b5cd30f3",
   "metadata": {},
   "outputs": [
    {
     "data": {
      "text/plain": [
       "False"
      ]
     },
     "execution_count": 14,
     "metadata": {},
     "output_type": "execute_result"
    }
   ],
   "source": [
    "torch.cuda.is_available()"
   ]
  },
  {
   "cell_type": "markdown",
   "id": "227a81e6-529a-40f2-b0cb-d76095b64e27",
   "metadata": {},
   "source": [
    "Sử dụng GPU và Cuda"
   ]
  },
  {
   "cell_type": "code",
   "execution_count": 22,
   "id": "fe4d7b55-4395-49bd-98c7-96d125e98233",
   "metadata": {},
   "outputs": [
    {
     "data": {
      "text/plain": [
       "<function torch.cuda.current_device() -> int>"
      ]
     },
     "execution_count": 22,
     "metadata": {},
     "output_type": "execute_result"
    }
   ],
   "source": [
    "torch.cuda.current_device"
   ]
  },
  {
   "cell_type": "markdown",
   "id": "8c40302f-8e15-43dd-9afb-b46a194084bf",
   "metadata": {},
   "source": [
    "torch.cuda.get_device_name(0)"
   ]
  },
  {
   "cell_type": "code",
   "execution_count": 26,
   "id": "1c245f08-2605-40a3-8904-d75e8cac903b",
   "metadata": {},
   "outputs": [
    {
     "data": {
      "text/plain": [
       "0"
      ]
     },
     "execution_count": 26,
     "metadata": {},
     "output_type": "execute_result"
    }
   ],
   "source": [
    "# trả về mức sử dụng bộ nhớ GPU hiện  theo tensors tính bằng byte cho thiết bị\n",
    "torch.cuda.memory_allocated()"
   ]
  },
  {
   "cell_type": "code",
   "execution_count": 28,
   "id": "20bcdef9-28d2-493a-9754-f9df0328992f",
   "metadata": {},
   "outputs": [
    {
     "name": "stderr",
     "output_type": "stream",
     "text": [
      "C:\\Users\\Admin\\AppData\\Local\\Temp\\ipykernel_51120\\1580366354.py:2: FutureWarning: `torch.cuda.memory_cached` has been renamed to `torch.cuda.memory_reserved`\n",
      "  torch.cuda.memory_cached()\n"
     ]
    },
    {
     "data": {
      "text/plain": [
       "0"
      ]
     },
     "execution_count": 28,
     "metadata": {},
     "output_type": "execute_result"
    }
   ],
   "source": [
    "# Trả về bộ nhớ GPU hiện tại được quản lý bởi bộ phân bổ bộ nhớ đệm theo byte\n",
    "torch.cuda.memory_cached()\n"
   ]
  },
  {
   "cell_type": "markdown",
   "id": "6966e1ea-f9f5-4bbf-9482-6552c7cfdd11",
   "metadata": {},
   "source": [
    "Dataset with Pytorch"
   ]
  },
  {
   "cell_type": "code",
   "execution_count": 41,
   "id": "e5feb5fd-7712-43be-9e3b-55afd7e8b778",
   "metadata": {},
   "outputs": [
    {
     "data": {
      "text/html": [
       "<div>\n",
       "<style scoped>\n",
       "    .dataframe tbody tr th:only-of-type {\n",
       "        vertical-align: middle;\n",
       "    }\n",
       "\n",
       "    .dataframe tbody tr th {\n",
       "        vertical-align: top;\n",
       "    }\n",
       "\n",
       "    .dataframe thead th {\n",
       "        text-align: right;\n",
       "    }\n",
       "</style>\n",
       "<table border=\"1\" class=\"dataframe\">\n",
       "  <thead>\n",
       "    <tr style=\"text-align: right;\">\n",
       "      <th></th>\n",
       "      <th>Id</th>\n",
       "      <th>SepalLengthCm</th>\n",
       "      <th>SepalWidthCm</th>\n",
       "      <th>PetalLengthCm</th>\n",
       "      <th>PetalWidthCm</th>\n",
       "      <th>Species</th>\n",
       "    </tr>\n",
       "  </thead>\n",
       "  <tbody>\n",
       "    <tr>\n",
       "      <th>0</th>\n",
       "      <td>1</td>\n",
       "      <td>5.1</td>\n",
       "      <td>3.5</td>\n",
       "      <td>1.4</td>\n",
       "      <td>0.2</td>\n",
       "      <td>Iris-setosa</td>\n",
       "    </tr>\n",
       "    <tr>\n",
       "      <th>1</th>\n",
       "      <td>2</td>\n",
       "      <td>4.9</td>\n",
       "      <td>3.0</td>\n",
       "      <td>1.4</td>\n",
       "      <td>0.2</td>\n",
       "      <td>Iris-setosa</td>\n",
       "    </tr>\n",
       "    <tr>\n",
       "      <th>2</th>\n",
       "      <td>3</td>\n",
       "      <td>4.7</td>\n",
       "      <td>3.2</td>\n",
       "      <td>1.3</td>\n",
       "      <td>0.2</td>\n",
       "      <td>Iris-setosa</td>\n",
       "    </tr>\n",
       "    <tr>\n",
       "      <th>3</th>\n",
       "      <td>4</td>\n",
       "      <td>4.6</td>\n",
       "      <td>3.1</td>\n",
       "      <td>1.5</td>\n",
       "      <td>0.2</td>\n",
       "      <td>Iris-setosa</td>\n",
       "    </tr>\n",
       "    <tr>\n",
       "      <th>4</th>\n",
       "      <td>5</td>\n",
       "      <td>5.0</td>\n",
       "      <td>3.6</td>\n",
       "      <td>1.4</td>\n",
       "      <td>0.2</td>\n",
       "      <td>Iris-setosa</td>\n",
       "    </tr>\n",
       "  </tbody>\n",
       "</table>\n",
       "</div>"
      ],
      "text/plain": [
       "   Id  SepalLengthCm  SepalWidthCm  PetalLengthCm  PetalWidthCm      Species\n",
       "0   1            5.1           3.5            1.4           0.2  Iris-setosa\n",
       "1   2            4.9           3.0            1.4           0.2  Iris-setosa\n",
       "2   3            4.7           3.2            1.3           0.2  Iris-setosa\n",
       "3   4            4.6           3.1            1.5           0.2  Iris-setosa\n",
       "4   5            5.0           3.6            1.4           0.2  Iris-setosa"
      ]
     },
     "execution_count": 41,
     "metadata": {},
     "output_type": "execute_result"
    }
   ],
   "source": [
    "# Loading data iris \n",
    "import torch\n",
    "import numpy as np\n",
    "import pandas as pd\n",
    "\n",
    "df = pd.read_csv('iris.csv')\n",
    "df.head()"
   ]
  },
  {
   "cell_type": "code",
   "execution_count": 53,
   "id": "cdf8aa02-6a91-43d2-93f9-8d4b71b17a01",
   "metadata": {},
   "outputs": [],
   "source": [
    "from sklearn.preprocessing import LabelEncoder\n",
    "from sklearn.model_selection import train_test_split\n",
    "\n",
    "le = LabelEncoder()\n",
    "X = df.drop([\"Id\", \"Species\"], axis = 1).values\n",
    "y = le.fit_transform(df[\"Species\"].values)"
   ]
  },
  {
   "cell_type": "code",
   "execution_count": 57,
   "id": "727cdc42-972d-49e4-9f23-d61d26b1b43b",
   "metadata": {},
   "outputs": [],
   "source": [
    "# chia dữ liệu với test size = 0,2\n",
    "X_train, X_test, y_train, y_test = train_test_split(X, y, test_size = 0.2, random_state = 42)\n",
    "\n",
    "X_train = torch.FloatTensor(X_train)\n",
    "X_test = torch.FloatTensor(X_test)\n",
    "y_train = torch.FloatTensor(y_train).reshape(-1, 1)\n",
    "y_test = torch.FloatTensor(y_test).reshape(-1, 1)"
   ]
  },
  {
   "cell_type": "code",
   "execution_count": 61,
   "id": "94a1214d-ec36-4d5d-905e-5ec3a9e4caad",
   "metadata": {},
   "outputs": [
    {
     "name": "stdout",
     "output_type": "stream",
     "text": [
      "train_size 120\n"
     ]
    }
   ],
   "source": [
    "print(f\"train_size {len(y_train)}\")"
   ]
  },
  {
   "cell_type": "code",
   "execution_count": 67,
   "id": "3ab046fa-2285-48bb-8606-11be9e7b4d26",
   "metadata": {},
   "outputs": [
    {
     "name": "stdout",
     "output_type": "stream",
     "text": [
      "tensor([0., 1., 2.]) tensor([40, 41, 39])\n"
     ]
    }
   ],
   "source": [
    "labels, counts = y_train.unique(return_counts=True)\n",
    "print(labels, counts)"
   ]
  },
  {
   "cell_type": "code",
   "execution_count": 101,
   "id": "58de9f92-290c-47fa-9297-c5cac9d1433c",
   "metadata": {},
   "outputs": [
    {
     "name": "stdout",
     "output_type": "stream",
     "text": [
      "tensor(2., requires_grad=True)\n",
      "None\n",
      "tensor(63., grad_fn=<AddBackward0>)\n",
      "<AddBackward0 object at 0x0000017E83348280>\n",
      "tensor(93.)\n"
     ]
    }
   ],
   "source": [
    "# Tính đạo hàm bằng Pytorch\n",
    "# Cho y = 2x^4 + x^3 + 3x^2 + 5x + 1 \n",
    "# Tính y'\n",
    "import torch\n",
    "\n",
    "# Tạo một tensor với requires_grad được đặt thành True\n",
    "x = torch.tensor(2.0, requires_grad=True)\n",
    "print(x)\n",
    "print(x.grad)\n",
    "\n",
    "# Định nghĩa hàm\n",
    "y = 2 * x**4 + x**3 + 3 * x**2 + 5 * x + 1\n",
    "print(y)\n",
    "print(y.grad_fn)\n",
    "\n",
    "# Thực hiện truyền ngược và tính toán tất cả các gradient\n",
    "y.backward()\n",
    "\n",
    "# Kết quả đạo hàm\n",
    "print(x.grad)"
   ]
  },
  {
   "cell_type": "code",
   "execution_count": 103,
   "id": "cf798bdc-9445-4512-87dc-532b09790b1a",
   "metadata": {},
   "outputs": [
    {
     "name": "stdout",
     "output_type": "stream",
     "text": [
      "Đạo hàm tại x = 2.0 là y' = 1161.0\n"
     ]
    }
   ],
   "source": [
    "# BTVN\n",
    "\n",
    "# Tính y' của y = 5x^6 + 3x^3 + 2x + x + 2x + 5x^4\n",
    "# Cho biết độ dốc của đa thức trên tại điểm nào\n",
    "\n",
    "# Khởi tạo biến x và cho phép tính gradient\n",
    "x = torch.tensor(2.0, requires_grad=True)  # Ví dụ: x = 2.0\n",
    "\n",
    "# Định nghĩa hàm y\n",
    "y = 5 * x**6 + 5 * x**4 + 3 * x**3 + 5 * x\n",
    "\n",
    "# Tính đạo hàm\n",
    "y.backward()\n",
    "\n",
    "# Giá trị của y' tại x = 2\n",
    "print(f\"Đạo hàm tại x = {x.item()} là y' = {x.grad.item()}\")"
   ]
  },
  {
   "cell_type": "code",
   "execution_count": 127,
   "id": "d676338d-30f1-4172-b776-7c1cdc8483e6",
   "metadata": {},
   "outputs": [
    {
     "name": "stdin",
     "output_type": "stream",
     "text": [
      "Nhập giá trị x:  1\n"
     ]
    },
    {
     "name": "stdout",
     "output_type": "stream",
     "text": [
      "Độ dốc của đa thức tại x = 1.0 là y' = 64.0\n"
     ]
    }
   ],
   "source": [
    "import torch\n",
    "\n",
    "def tinh_dao_ham(x_value):\n",
    "    x = torch.tensor(x_value, dtype=torch.float32, requires_grad=True)\n",
    "    \n",
    "    # Định nghĩa hàm số y\n",
    "    y = 5 * x**6 + 5 * x**4 + 3 * x**3 + 5 * x + 1\n",
    "    \n",
    "    # Tính đạo hàm\n",
    "    y.backward()\n",
    "    \n",
    "    # Trả về giá trị đạo hàm tại x\n",
    "    return x.grad.item()\n",
    "\n",
    "# Nhập giá trị x từ người dùng\n",
    "x_input = float(input(\"Nhập giá trị x: \"))\n",
    "\n",
    "# Tính độ dốc tại x_input\n",
    "do_doc = tinh_dao_ham(x_input)\n",
    "\n",
    "# Hiển thị kết quả\n",
    "print(f\"Độ dốc của đa thức tại x = {x_input} là y' = {do_doc}\")\n"
   ]
  },
  {
   "cell_type": "code",
   "execution_count": 129,
   "id": "4eb511c3-30c4-41f0-873b-85559cda1b45",
   "metadata": {},
   "outputs": [],
   "source": [
    "#BTVN 1\n",
    "# Tạo một tensor X có giá trị ban đầu là 2.0\n",
    "# Định nghĩa hàm số và tính gradient\n",
    "# y = x^3 + 2x^2 + 5x + 1\n",
    "# hãy tính dy/dx tại giá trị của x\n",
    "# Dùng phương pháp Gradient Descent với learning rate alpha = 0,1 để cập nhật giá trị X trong 10 vòng lặp"
   ]
  },
  {
   "cell_type": "code",
   "execution_count": 5,
   "id": "2e7840a7-504f-44d7-8a89-69e5e4ef9834",
   "metadata": {},
   "outputs": [
    {
     "name": "stdin",
     "output_type": "stream",
     "text": [
      "Nhập giá trị x:  1\n"
     ]
    },
    {
     "name": "stdout",
     "output_type": "stream",
     "text": [
      "Độ dốc của đa thức tại x = 1.0 là y' = 12.0\n",
      "Epoch 1: X = -0.20000004768371582\n",
      "Epoch 2: X = -0.6320000290870667\n",
      "Epoch 3: X = -0.9990272521972656\n",
      "Epoch 4: X = -1.3988330364227295\n",
      "Epoch 5: X = -1.9263200759887695\n",
      "Epoch 6: X = -2.7690048217773438\n",
      "Epoch 7: X = -4.4616193771362305\n",
      "Epoch 8: X = -9.148786544799805\n",
      "Epoch 9: X = -31.099361419677734\n",
      "Epoch 10: X = -309.3106994628906\n"
     ]
    }
   ],
   "source": [
    "import torch\n",
    "\n",
    "def tinh_dao_ham(x_value):\n",
    "    x = torch.tensor(x_value, dtype=torch.float32, requires_grad=True)\n",
    "    \n",
    "    # Định nghĩa hàm số\n",
    "    y = x**3 + 2*x**2 + 5*x + 1\n",
    "    \n",
    "    # Tính đạo hàm\n",
    "    y.backward()\n",
    "    \n",
    "    # Trả về giá trị đạo hàm tại x\n",
    "    return x.grad.item()\n",
    "\n",
    "# Nhập giá trị x từ người dùng\n",
    "x_input = float(input(\"Nhập giá trị x: \"))\n",
    "\n",
    "# Tính độ dốc tại x_input\n",
    "do_doc = tinh_dao_ham(x_input)\n",
    "\n",
    "# Hiển thị kết quả\n",
    "print(f\"Độ dốc của đa thức tại x = {x_input} là y' = {do_doc}\")\n",
    "\n",
    "# Learning rate\n",
    "alpha = 0.1\n",
    "\n",
    "# Số vòng lặp\n",
    "epochs = 10\n",
    "\n",
    "X = torch.tensor(x_input, dtype=torch.float32, requires_grad=True)\n",
    "\n",
    "for i in range(epochs):\n",
    "    y = X**3 + 2*X**2 + 5*X + 1\n",
    "    y.backward()\n",
    "    \n",
    "    with torch.no_grad():\n",
    "        X -= alpha * X.grad\n",
    "    \n",
    "    X.grad.zero_()\n",
    "    \n",
    "    print(f\"Epoch {i+1}: X = {X.item()}\")"
   ]
  },
  {
   "cell_type": "code",
   "execution_count": null,
   "id": "fd4d848f-044c-47cc-8238-20acbddd3b65",
   "metadata": {},
   "outputs": [],
   "source": []
  },
  {
   "cell_type": "code",
   "execution_count": 131,
   "id": "2415d294-1f0f-44a4-ae48-f5c9205b1409",
   "metadata": {},
   "outputs": [],
   "source": [
    "#BTVN 2\n",
    "# Tạo một tập dữ liệu giả lập với x là số giờ học (ngẫu nhiên từ 1 đến 10) và y là số điểm được tính theo công thức y = 3x + 5 + noise\n",
    "# Với noise là một giá trị ngẫu nhiên nhỏ \n",
    "# 1. Khởi tạo tham số w và b ngẫu nhiên với requires_grad = True\n",
    "# 2. Tính MSE\n",
    "# 3. Tính gradient\n",
    "# 4. Cập nhật tham số w và b bằng Gradient Descent với Learning rate alpha = 0.01\n",
    "# 5. Lặp lại quá trình trên trong 100 vòng lặp và quan sát sự hội tụ của mô hình"
   ]
  },
  {
   "cell_type": "code",
   "execution_count": 7,
   "id": "ae4b8555-151d-4897-90c9-cd21a534dd73",
   "metadata": {},
   "outputs": [
    {
     "name": "stdout",
     "output_type": "stream",
     "text": [
      "Epoch 10: Loss = 3.6406, w = 3.5905, b = 0.7400\n",
      "Epoch 20: Loss = 3.3972, w = 3.5692, b = 0.8941\n",
      "Epoch 30: Loss = 3.1712, w = 3.5488, b = 1.0426\n",
      "Epoch 40: Loss = 2.9615, w = 3.5291, b = 1.1856\n",
      "Epoch 50: Loss = 2.7669, w = 3.5101, b = 1.3235\n",
      "Epoch 60: Loss = 2.5862, w = 3.4918, b = 1.4562\n",
      "Epoch 70: Loss = 2.4185, w = 3.4742, b = 1.5842\n",
      "Epoch 80: Loss = 2.2629, w = 3.4572, b = 1.7074\n",
      "Epoch 90: Loss = 2.1184, w = 3.4409, b = 1.8261\n",
      "Epoch 100: Loss = 1.9843, w = 3.4251, b = 1.9405\n",
      "Ket qua cuoi: w = 3.4251, b = 1.9405\n"
     ]
    }
   ],
   "source": [
    "import torch\n",
    "import numpy as np\n",
    "import random\n",
    "\n",
    "# Tạo tập dữ liệu giả lập\n",
    "np.random.seed(42)\n",
    "torch.manual_seed(42)\n",
    "random.seed(42)\n",
    "\n",
    "x_data = torch.tensor(np.random.randint(1, 11, 100), dtype=torch.float32)\n",
    "noise = torch.tensor(np.random.randn(100) * 0.5, dtype=torch.float32)\n",
    "y_data = 3 * x_data + 5 + noise  # y = 3x + 5 + noise\n",
    "\n",
    "# Khởi tạo tham số w và b\n",
    "w = torch.randn(1, requires_grad=True)\n",
    "b = torch.randn(1, requires_grad=True)\n",
    "\n",
    "# Learning rate\n",
    "alpha = 0.01\n",
    "# Số vòng lặp\n",
    "epochs = 100\n",
    "\n",
    "for epoch in range(epochs):\n",
    "    # Tính giá trị dự đoán\n",
    "    y_pred = w * x_data + b\n",
    "    \n",
    "    # Tính MSE\n",
    "    loss = torch.mean((y_pred - y_data) ** 2)\n",
    "    \n",
    "    # Tính gradient\n",
    "    loss.backward()\n",
    "    \n",
    "    # Cập nhật tham số bằng Gradient Descent\n",
    "    with torch.no_grad():\n",
    "        w -= alpha * w.grad\n",
    "        b -= alpha * b.grad\n",
    "    \n",
    "    # Đặt gradient về 0 để tránh cộng dồn\n",
    "    w.grad.zero_()\n",
    "    b.grad.zero_()\n",
    "    \n",
    "    if (epoch + 1) % 10 == 0:\n",
    "        print(f\"Epoch {epoch+1}: Loss = {loss.item():.4f}, w = {w.item():.4f}, b = {b.item():.4f}\")\n",
    "\n",
    "print(f\"Ket qua cuoi: w = {w.item():.4f}, b = {b.item():.4f}\")\n"
   ]
  },
  {
   "cell_type": "markdown",
   "id": "ca8ef723-419c-482a-8cdf-aa42cfe2401c",
   "metadata": {},
   "source": [
    "Pytorch with tensor"
   ]
  },
  {
   "cell_type": "code",
   "execution_count": 136,
   "id": "f70b82f6-7e29-4672-bcf1-bc86cf3dde45",
   "metadata": {},
   "outputs": [],
   "source": [
    "import torch\n",
    "import numpy as np"
   ]
  },
  {
   "cell_type": "code",
   "execution_count": 138,
   "id": "709e1fb3-593a-4db5-8ffd-ac78b9050323",
   "metadata": {},
   "outputs": [
    {
     "data": {
      "text/plain": [
       "'2.6.0+cpu'"
      ]
     },
     "execution_count": 138,
     "metadata": {},
     "output_type": "execute_result"
    }
   ],
   "source": [
    "torch.__version__"
   ]
  },
  {
   "cell_type": "code",
   "execution_count": 142,
   "id": "334b2380-dc6c-4f2f-9689-77494dbc14e2",
   "metadata": {},
   "outputs": [
    {
     "name": "stdout",
     "output_type": "stream",
     "text": [
      "[1 2 3 4 5]\n",
      "int32\n"
     ]
    }
   ],
   "source": [
    "# Chuyển đổi mảng numpy sang tensor pytorch\n",
    "arr = np.array([1, 2, 3, 4 ,5])\n",
    "print(arr)\n",
    "print(arr.dtype)"
   ]
  },
  {
   "cell_type": "code",
   "execution_count": 144,
   "id": "f8e6dfad-46b3-460b-9e07-3b38319c07c7",
   "metadata": {},
   "outputs": [
    {
     "name": "stdout",
     "output_type": "stream",
     "text": [
      "tensor([1, 2, 3, 4, 5], dtype=torch.int32)\n"
     ]
    }
   ],
   "source": [
    "x = torch.from_numpy(arr)\n",
    "print(x)"
   ]
  },
  {
   "cell_type": "code",
   "execution_count": 148,
   "id": "82d135b8-b9af-452d-af50-bd7e9b3c9d70",
   "metadata": {},
   "outputs": [
    {
     "name": "stdout",
     "output_type": "stream",
     "text": [
      "torch.int32\n",
      "<built-in method type of Tensor object at 0x0000017E8A938F50>\n"
     ]
    }
   ],
   "source": [
    "print(x.dtype)\n",
    "print(x.type)"
   ]
  },
  {
   "cell_type": "code",
   "execution_count": 154,
   "id": "7f288436-cf2a-4682-bd55-e205d6fa5642",
   "metadata": {},
   "outputs": [
    {
     "data": {
      "text/plain": [
       "array([[ 0,  1,  2],\n",
       "       [ 3,  4,  5],\n",
       "       [ 6,  7,  8],\n",
       "       [ 9, 10, 11]])"
      ]
     },
     "execution_count": 154,
     "metadata": {},
     "output_type": "execute_result"
    }
   ],
   "source": [
    "arr2 = np.arange(0,12).reshape(4,3)\n",
    "arr2"
   ]
  },
  {
   "cell_type": "code",
   "execution_count": 156,
   "id": "2c3bc61e-4ae9-404a-80cf-475a273540e1",
   "metadata": {},
   "outputs": [
    {
     "name": "stdout",
     "output_type": "stream",
     "text": [
      "tensor([[ 0,  1,  2],\n",
      "        [ 3,  4,  5],\n",
      "        [ 6,  7,  8],\n",
      "        [ 9, 10, 11]], dtype=torch.int32)\n",
      "torch.IntTensor\n"
     ]
    }
   ],
   "source": [
    "x2 = torch.from_numpy(arr2)\n",
    "print(x2)\n",
    "print(x2.type())"
   ]
  },
  {
   "cell_type": "code",
   "execution_count": 168,
   "id": "bc3aaa0f-7b7f-4c26-b6e9-a90dc4f70101",
   "metadata": {},
   "outputs": [
    {
     "name": "stdout",
     "output_type": "stream",
     "text": [
      "tensor([0, 1, 2, 3, 4], dtype=torch.int32)\n"
     ]
    }
   ],
   "source": [
    "# Copying and Sharing\n",
    "arr = np.arange(0,5)\n",
    "x = torch.from_numpy(arr)\n",
    "print(x)"
   ]
  },
  {
   "cell_type": "code",
   "execution_count": 160,
   "id": "46e2bd1e-63ef-4af3-86e4-d51ec9aee24a",
   "metadata": {},
   "outputs": [
    {
     "name": "stdout",
     "output_type": "stream",
     "text": [
      "tensor([99,  1,  2,  3,  4], dtype=torch.int32)\n"
     ]
    }
   ],
   "source": [
    "arr[0] = 99\n",
    "print(x)"
   ]
  },
  {
   "cell_type": "code",
   "execution_count": 162,
   "id": "a9326bac-7a3b-478b-9608-e06b0c2fc0fb",
   "metadata": {},
   "outputs": [
    {
     "name": "stdout",
     "output_type": "stream",
     "text": [
      "tensor([0, 1, 2, 3, 4], dtype=torch.int32)\n"
     ]
    }
   ],
   "source": [
    "arr = np.arange(0,5)\n",
    "x = torch.tensor(arr)\n",
    "print(x)"
   ]
  },
  {
   "cell_type": "code",
   "execution_count": 164,
   "id": "d8bebdb0-97c1-4d17-a21f-38363cc22da9",
   "metadata": {},
   "outputs": [
    {
     "name": "stdout",
     "output_type": "stream",
     "text": [
      "tensor([0, 1, 2, 3, 4], dtype=torch.int32)\n"
     ]
    }
   ],
   "source": [
    "arr[0] = 99\n",
    "print(x)"
   ]
  },
  {
   "cell_type": "code",
   "execution_count": 11,
   "id": "6eb93d5f-839f-4c4d-84ce-36b356f7d55f",
   "metadata": {},
   "outputs": [],
   "source": [
    "#BTVN3 : Giải thích lí do tại sao cho 2 trường hopwr ở trên \n",
    "    #TH1: torch.from_numpy(arr) tạo một tensor chia sẻ bộ nhớ (shared memory) với mảng NumPy arr.\n",
    "        # Điều này có nghĩa là mọi thay đổi trong arr cũng sẽ thay đổi x, vì chúng trỏ đến cùng một vùng nhớ.\n",
    "        # Khi arr[0] = 99, giá trị trong x cũng bị ảnh hưởng, dẫn đến tensor([99, 1, 2, 3, 4]).\n",
    "    #TH2: torch.tensor(arr) tạo một bản sao độc lập của arr, không chia sẻ bộ nhớ với arr.\n",
    "        # Khi arr[0] = 99, giá trị của x không bị ảnh hưởng vì nó đã được copy sang vùng nhớ riêng biệt.\n",
    "        # Do đó, x vẫn giữ nguyên giá trị tensor([0, 1, 2, 3, 4])."
   ]
  },
  {
   "cell_type": "code",
   "execution_count": 13,
   "id": "3aff7baa-6b95-442f-a3db-5c39a05147e4",
   "metadata": {},
   "outputs": [],
   "source": [
    "#BTVN4: Bạn hãy giúp thầy về nhà tạo tensor với:\n",
    "# Empty\n",
    "# Zeros\n",
    "# Ones\n",
    "# Random\n",
    "# Reshape với view và view as \n",
    "import torch"
   ]
  },
  {
   "cell_type": "code",
   "execution_count": 15,
   "id": "e75509fd-48f5-4961-b647-2a254a0b93e3",
   "metadata": {},
   "outputs": [
    {
     "name": "stdout",
     "output_type": "stream",
     "text": [
      "Empty Tensor:\n",
      "tensor([[-9.0207e-16,  1.9884e-42,  0.0000e+00],\n",
      "        [ 0.0000e+00,  0.0000e+00,  0.0000e+00],\n",
      "        [ 0.0000e+00,  0.0000e+00,  0.0000e+00]])\n"
     ]
    }
   ],
   "source": [
    "#Empty\n",
    "empty_tensor = torch.empty(3, 3)\n",
    "print(\"Empty Tensor:\")\n",
    "print(empty_tensor)"
   ]
  },
  {
   "cell_type": "code",
   "execution_count": 17,
   "id": "44c3581a-f70b-471b-9616-3ad5afe8b2c2",
   "metadata": {},
   "outputs": [
    {
     "name": "stdout",
     "output_type": "stream",
     "text": [
      "\n",
      "Zeros Tensor:\n",
      "tensor([[0., 0., 0.],\n",
      "        [0., 0., 0.],\n",
      "        [0., 0., 0.]])\n"
     ]
    }
   ],
   "source": [
    "# Zeros\n",
    "zeros_tensor = torch.zeros(3, 3)\n",
    "print(\"\\nZeros Tensor:\")\n",
    "print(zeros_tensor)"
   ]
  },
  {
   "cell_type": "code",
   "execution_count": 19,
   "id": "6857af1e-da54-475e-81bd-03f7ce84b51d",
   "metadata": {},
   "outputs": [
    {
     "name": "stdout",
     "output_type": "stream",
     "text": [
      "\n",
      "Ones Tensor:\n",
      "tensor([[1., 1., 1.],\n",
      "        [1., 1., 1.],\n",
      "        [1., 1., 1.]])\n"
     ]
    }
   ],
   "source": [
    "# Ones\n",
    "ones_tensor = torch.ones(3, 3)\n",
    "print(\"\\nOnes Tensor:\")\n",
    "print(ones_tensor)"
   ]
  },
  {
   "cell_type": "code",
   "execution_count": 21,
   "id": "f4039fda-4f49-4f04-8341-fd434a4d0c50",
   "metadata": {},
   "outputs": [
    {
     "name": "stdout",
     "output_type": "stream",
     "text": [
      "\n",
      "Random Tensor:\n",
      "tensor([[0.3904, 0.6009, 0.2566],\n",
      "        [0.7936, 0.9408, 0.1332],\n",
      "        [0.9346, 0.5936, 0.8694]])\n"
     ]
    }
   ],
   "source": [
    "# Random\n",
    "random_tensor = torch.rand(3, 3)\n",
    "print(\"\\nRandom Tensor:\")\n",
    "print(random_tensor)"
   ]
  },
  {
   "cell_type": "code",
   "execution_count": 23,
   "id": "da56dd72-f4dd-4423-9e5d-f28f3f250882",
   "metadata": {},
   "outputs": [
    {
     "name": "stdout",
     "output_type": "stream",
     "text": [
      "\n",
      "Reshaped Tensor using view:\n",
      "tensor([[0, 1, 2],\n",
      "        [3, 4, 5],\n",
      "        [6, 7, 8]])\n"
     ]
    }
   ],
   "source": [
    "# reshape với view\n",
    "original_tensor = torch.arange(9)\n",
    "reshaped_tensor_view = original_tensor.view(3, 3)\n",
    "print(\"\\nReshaped Tensor using view:\")\n",
    "print(reshaped_tensor_view)"
   ]
  },
  {
   "cell_type": "code",
   "execution_count": 25,
   "id": "3000688a-51bc-4979-a638-95af52471594",
   "metadata": {},
   "outputs": [
    {
     "name": "stdout",
     "output_type": "stream",
     "text": [
      "\n",
      "Reshaped Tensor using view_as:\n",
      "tensor([[0, 0, 0],\n",
      "        [0, 0, 0],\n",
      "        [0, 0, 0]])\n"
     ]
    }
   ],
   "source": [
    "# reshape với view_as\n",
    "example_tensor = torch.zeros_like(original_tensor)\n",
    "reshaped_tensor_view_as = example_tensor.view_as(reshaped_tensor_view)\n",
    "print(\"\\nReshaped Tensor using view_as:\")\n",
    "print(reshaped_tensor_view_as)"
   ]
  },
  {
   "cell_type": "code",
   "execution_count": null,
   "id": "c8023f34-37b8-45a7-a2f9-c81b4290e058",
   "metadata": {},
   "outputs": [],
   "source": []
  }
 ],
 "metadata": {
  "kernelspec": {
   "display_name": "Python 3 (ipykernel)",
   "language": "python",
   "name": "python3"
  },
  "language_info": {
   "codemirror_mode": {
    "name": "ipython",
    "version": 3
   },
   "file_extension": ".py",
   "mimetype": "text/x-python",
   "name": "python",
   "nbconvert_exporter": "python",
   "pygments_lexer": "ipython3",
   "version": "3.11.7"
  }
 },
 "nbformat": 4,
 "nbformat_minor": 5
}
